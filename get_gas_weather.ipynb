{
 "metadata": {
  "language_info": {
   "codemirror_mode": {
    "name": "ipython",
    "version": 3
   },
   "file_extension": ".py",
   "mimetype": "text/x-python",
   "name": "python",
   "nbconvert_exporter": "python",
   "pygments_lexer": "ipython3",
   "version": "3.6.9-final"
  },
  "orig_nbformat": 2,
  "kernelspec": {
   "name": "python_defaultSpec_1601956210211",
   "display_name": "Python 3.6.9 64-bit ('learn-env': conda)",
   "metadata": {
    "interpreter": {
     "hash": "6f67fbb2c903d34a77091fd33fd1d164a29a580a926193f49ae72791ce46b98a"
    }
   }
  }
 },
 "nbformat": 4,
 "nbformat_minor": 2,
 "cells": [
  {
   "cell_type": "code",
   "execution_count": 9,
   "metadata": {},
   "outputs": [],
   "source": [
    "from darksky.api import DarkSky, DarkSkyAsync\n",
    "from darksky.types import languages, units, weather\n",
    "from dotenv import load_dotenv\n",
    "\n",
    "# env var handling of secret\n",
    "load_dotenv()\n",
    "\n",
    "SECRET_KEY = os.getenv('SECRET_KEY')\n",
    "darksky = DarkSky(SECRET_KEY)"
   ]
  },
  {
   "cell_type": "code",
   "execution_count": 2,
   "metadata": {},
   "outputs": [],
   "source": [
    "import pandas as pd"
   ]
  },
  {
   "cell_type": "code",
   "execution_count": 3,
   "metadata": {},
   "outputs": [
    {
     "output_type": "execute_result",
     "data": {
      "text/plain": "                      date  cityGatePrice  residentialPrice  \\\n0   01/15/2001 12:00:00 AM           6.89              7.03   \n1   11/15/2013 12:00:00 AM           4.83              7.78   \n2   12/15/2003 12:00:00 AM           4.67              7.31   \n3   05/15/2015 12:00:00 AM           4.22              9.25   \n4   05/15/1999 12:00:00 AM           2.36              5.27   \n5   07/15/2011 12:00:00 AM           6.21             13.71   \n6   10/15/2004 12:00:00 AM           4.10              8.57   \n7   08/15/2015 12:00:00 AM           5.59             13.68   \n8   12/15/2013 12:00:00 AM           4.75              6.93   \n9   09/15/2011 12:00:00 AM           6.49             12.46   \n10  06/15/1996 12:00:00 AM           2.40              5.18   \n11  12/15/2010 12:00:00 AM           4.69              7.34   \n12  01/15/2007 12:00:00 AM           6.18              8.07   \n13  01/15/2013 12:00:00 AM           4.02              6.79   \n14  03/15/2009 12:00:00 AM           5.20              9.00   \n15  04/15/2004 12:00:00 AM           5.16              8.27   \n16  10/15/2005 12:00:00 AM           6.95             12.31   \n17  10/15/2003 12:00:00 AM           3.62              8.67   \n18  04/15/1990 12:00:00 AM           2.88              4.41   \n19  01/15/1994 12:00:00 AM           3.43              4.58   \n\n    residentialFromCO  commercialPrice  commercialFromCO  industrialPrice  \\\n0                 NaN             6.94              90.8             9.36   \n1               100.0             7.29              95.2             5.61   \n2               100.0             6.79              95.1             9.22   \n3               100.0             7.63              92.8             5.32   \n4                 NaN             4.46              98.2              NaN   \n5               100.0             9.59              95.3             7.30   \n6               100.0             7.29              96.3             7.29   \n7               100.0             9.33              91.1             6.65   \n8               100.0             6.79              95.6             5.78   \n9               100.0             9.41              93.9             8.61   \n10                NaN             3.79              92.5              NaN   \n11              100.0             7.14              95.1             5.72   \n12              100.0             7.96              96.1            10.39   \n13              100.0             6.60              96.0             5.09   \n14              100.0             6.80              94.0             5.00   \n15              100.0             7.14              93.1             6.62   \n16              100.0            11.07              96.8             8.40   \n17              100.0             7.35              93.2             6.28   \n18                NaN             3.94              97.6              NaN   \n19                NaN             4.27              95.9              NaN   \n\n    industrialFromCO  electricPowerConsumersPrice  \n0                0.0                          NaN  \n1                8.5                          NaN  \n2                0.1                         5.08  \n3                8.6                          NaN  \n4                NaN                          NaN  \n5                5.2                         4.86  \n6                0.3                         5.05  \n7                4.4                          NaN  \n8                8.1                          NaN  \n9                5.7                         5.30  \n10               NaN                          NaN  \n11               6.3                         5.22  \n12               0.1                         5.33  \n13               9.3                          NaN  \n14               0.4                         3.73  \n15               1.1                         4.67  \n16               0.4                        10.31  \n17               0.9                         4.52  \n18               NaN                          NaN  \n19               NaN                          NaN  ",
      "text/html": "<div>\n<style scoped>\n    .dataframe tbody tr th:only-of-type {\n        vertical-align: middle;\n    }\n\n    .dataframe tbody tr th {\n        vertical-align: top;\n    }\n\n    .dataframe thead th {\n        text-align: right;\n    }\n</style>\n<table border=\"1\" class=\"dataframe\">\n  <thead>\n    <tr style=\"text-align: right;\">\n      <th></th>\n      <th>date</th>\n      <th>cityGatePrice</th>\n      <th>residentialPrice</th>\n      <th>residentialFromCO</th>\n      <th>commercialPrice</th>\n      <th>commercialFromCO</th>\n      <th>industrialPrice</th>\n      <th>industrialFromCO</th>\n      <th>electricPowerConsumersPrice</th>\n    </tr>\n  </thead>\n  <tbody>\n    <tr>\n      <th>0</th>\n      <td>01/15/2001 12:00:00 AM</td>\n      <td>6.89</td>\n      <td>7.03</td>\n      <td>NaN</td>\n      <td>6.94</td>\n      <td>90.8</td>\n      <td>9.36</td>\n      <td>0.0</td>\n      <td>NaN</td>\n    </tr>\n    <tr>\n      <th>1</th>\n      <td>11/15/2013 12:00:00 AM</td>\n      <td>4.83</td>\n      <td>7.78</td>\n      <td>100.0</td>\n      <td>7.29</td>\n      <td>95.2</td>\n      <td>5.61</td>\n      <td>8.5</td>\n      <td>NaN</td>\n    </tr>\n    <tr>\n      <th>2</th>\n      <td>12/15/2003 12:00:00 AM</td>\n      <td>4.67</td>\n      <td>7.31</td>\n      <td>100.0</td>\n      <td>6.79</td>\n      <td>95.1</td>\n      <td>9.22</td>\n      <td>0.1</td>\n      <td>5.08</td>\n    </tr>\n    <tr>\n      <th>3</th>\n      <td>05/15/2015 12:00:00 AM</td>\n      <td>4.22</td>\n      <td>9.25</td>\n      <td>100.0</td>\n      <td>7.63</td>\n      <td>92.8</td>\n      <td>5.32</td>\n      <td>8.6</td>\n      <td>NaN</td>\n    </tr>\n    <tr>\n      <th>4</th>\n      <td>05/15/1999 12:00:00 AM</td>\n      <td>2.36</td>\n      <td>5.27</td>\n      <td>NaN</td>\n      <td>4.46</td>\n      <td>98.2</td>\n      <td>NaN</td>\n      <td>NaN</td>\n      <td>NaN</td>\n    </tr>\n    <tr>\n      <th>5</th>\n      <td>07/15/2011 12:00:00 AM</td>\n      <td>6.21</td>\n      <td>13.71</td>\n      <td>100.0</td>\n      <td>9.59</td>\n      <td>95.3</td>\n      <td>7.30</td>\n      <td>5.2</td>\n      <td>4.86</td>\n    </tr>\n    <tr>\n      <th>6</th>\n      <td>10/15/2004 12:00:00 AM</td>\n      <td>4.10</td>\n      <td>8.57</td>\n      <td>100.0</td>\n      <td>7.29</td>\n      <td>96.3</td>\n      <td>7.29</td>\n      <td>0.3</td>\n      <td>5.05</td>\n    </tr>\n    <tr>\n      <th>7</th>\n      <td>08/15/2015 12:00:00 AM</td>\n      <td>5.59</td>\n      <td>13.68</td>\n      <td>100.0</td>\n      <td>9.33</td>\n      <td>91.1</td>\n      <td>6.65</td>\n      <td>4.4</td>\n      <td>NaN</td>\n    </tr>\n    <tr>\n      <th>8</th>\n      <td>12/15/2013 12:00:00 AM</td>\n      <td>4.75</td>\n      <td>6.93</td>\n      <td>100.0</td>\n      <td>6.79</td>\n      <td>95.6</td>\n      <td>5.78</td>\n      <td>8.1</td>\n      <td>NaN</td>\n    </tr>\n    <tr>\n      <th>9</th>\n      <td>09/15/2011 12:00:00 AM</td>\n      <td>6.49</td>\n      <td>12.46</td>\n      <td>100.0</td>\n      <td>9.41</td>\n      <td>93.9</td>\n      <td>8.61</td>\n      <td>5.7</td>\n      <td>5.30</td>\n    </tr>\n    <tr>\n      <th>10</th>\n      <td>06/15/1996 12:00:00 AM</td>\n      <td>2.40</td>\n      <td>5.18</td>\n      <td>NaN</td>\n      <td>3.79</td>\n      <td>92.5</td>\n      <td>NaN</td>\n      <td>NaN</td>\n      <td>NaN</td>\n    </tr>\n    <tr>\n      <th>11</th>\n      <td>12/15/2010 12:00:00 AM</td>\n      <td>4.69</td>\n      <td>7.34</td>\n      <td>100.0</td>\n      <td>7.14</td>\n      <td>95.1</td>\n      <td>5.72</td>\n      <td>6.3</td>\n      <td>5.22</td>\n    </tr>\n    <tr>\n      <th>12</th>\n      <td>01/15/2007 12:00:00 AM</td>\n      <td>6.18</td>\n      <td>8.07</td>\n      <td>100.0</td>\n      <td>7.96</td>\n      <td>96.1</td>\n      <td>10.39</td>\n      <td>0.1</td>\n      <td>5.33</td>\n    </tr>\n    <tr>\n      <th>13</th>\n      <td>01/15/2013 12:00:00 AM</td>\n      <td>4.02</td>\n      <td>6.79</td>\n      <td>100.0</td>\n      <td>6.60</td>\n      <td>96.0</td>\n      <td>5.09</td>\n      <td>9.3</td>\n      <td>NaN</td>\n    </tr>\n    <tr>\n      <th>14</th>\n      <td>03/15/2009 12:00:00 AM</td>\n      <td>5.20</td>\n      <td>9.00</td>\n      <td>100.0</td>\n      <td>6.80</td>\n      <td>94.0</td>\n      <td>5.00</td>\n      <td>0.4</td>\n      <td>3.73</td>\n    </tr>\n    <tr>\n      <th>15</th>\n      <td>04/15/2004 12:00:00 AM</td>\n      <td>5.16</td>\n      <td>8.27</td>\n      <td>100.0</td>\n      <td>7.14</td>\n      <td>93.1</td>\n      <td>6.62</td>\n      <td>1.1</td>\n      <td>4.67</td>\n    </tr>\n    <tr>\n      <th>16</th>\n      <td>10/15/2005 12:00:00 AM</td>\n      <td>6.95</td>\n      <td>12.31</td>\n      <td>100.0</td>\n      <td>11.07</td>\n      <td>96.8</td>\n      <td>8.40</td>\n      <td>0.4</td>\n      <td>10.31</td>\n    </tr>\n    <tr>\n      <th>17</th>\n      <td>10/15/2003 12:00:00 AM</td>\n      <td>3.62</td>\n      <td>8.67</td>\n      <td>100.0</td>\n      <td>7.35</td>\n      <td>93.2</td>\n      <td>6.28</td>\n      <td>0.9</td>\n      <td>4.52</td>\n    </tr>\n    <tr>\n      <th>18</th>\n      <td>04/15/1990 12:00:00 AM</td>\n      <td>2.88</td>\n      <td>4.41</td>\n      <td>NaN</td>\n      <td>3.94</td>\n      <td>97.6</td>\n      <td>NaN</td>\n      <td>NaN</td>\n      <td>NaN</td>\n    </tr>\n    <tr>\n      <th>19</th>\n      <td>01/15/1994 12:00:00 AM</td>\n      <td>3.43</td>\n      <td>4.58</td>\n      <td>NaN</td>\n      <td>4.27</td>\n      <td>95.9</td>\n      <td>NaN</td>\n      <td>NaN</td>\n      <td>NaN</td>\n    </tr>\n  </tbody>\n</table>\n</div>"
     },
     "metadata": {},
     "execution_count": 3
    }
   ],
   "source": [
    "df = pd.read_csv(\"./data/Natural_Gas_Prices_in_Colorado.csv\")\n",
    "\n",
    "df.head(20)"
   ]
  },
  {
   "cell_type": "code",
   "execution_count": 4,
   "metadata": {},
   "outputs": [
    {
     "output_type": "execute_result",
     "data": {
      "text/plain": "          date  cityGatePrice  residentialPrice  residentialFromCO  \\\n79  1989-01-15           2.83              4.30                NaN   \n47  1989-02-15           2.85              4.30                NaN   \n228 1989-03-15           2.92              4.33                NaN   \n343 1989-04-15           3.19              4.54                NaN   \n145 1989-05-15           3.36              4.82                NaN   \n..         ...            ...               ...                ...   \n376 2020-03-15           2.57              6.44              100.0   \n359 2020-04-15           2.25              6.59              100.0   \n351 2020-05-15           2.99              8.78              100.0   \n369 2020-06-15           2.88             11.46              100.0   \n363 2020-07-15           3.14             13.25              100.0   \n\n     commercialPrice  commercialFromCO  industrialPrice  industrialFromCO  \\\n79              3.95              98.0              NaN               NaN   \n47              3.95              98.1              NaN               NaN   \n228             3.96              98.3              NaN               NaN   \n343             4.02              97.8              NaN               NaN   \n145             4.09              97.3              NaN               NaN   \n..               ...               ...              ...               ...   \n376             5.47              93.9             4.27               8.6   \n359             5.72              93.1             4.29               7.8   \n351             6.69              91.5             4.45               7.8   \n369             8.61              90.4             7.33               5.0   \n363             9.78              90.2             6.61               5.7   \n\n     electricPowerConsumersPrice  \n79                           NaN  \n47                           NaN  \n228                          NaN  \n343                          NaN  \n145                          NaN  \n..                           ...  \n376                          NaN  \n359                          NaN  \n351                          NaN  \n369                          NaN  \n363                          NaN  \n\n[379 rows x 9 columns]",
      "text/html": "<div>\n<style scoped>\n    .dataframe tbody tr th:only-of-type {\n        vertical-align: middle;\n    }\n\n    .dataframe tbody tr th {\n        vertical-align: top;\n    }\n\n    .dataframe thead th {\n        text-align: right;\n    }\n</style>\n<table border=\"1\" class=\"dataframe\">\n  <thead>\n    <tr style=\"text-align: right;\">\n      <th></th>\n      <th>date</th>\n      <th>cityGatePrice</th>\n      <th>residentialPrice</th>\n      <th>residentialFromCO</th>\n      <th>commercialPrice</th>\n      <th>commercialFromCO</th>\n      <th>industrialPrice</th>\n      <th>industrialFromCO</th>\n      <th>electricPowerConsumersPrice</th>\n    </tr>\n  </thead>\n  <tbody>\n    <tr>\n      <th>79</th>\n      <td>1989-01-15</td>\n      <td>2.83</td>\n      <td>4.30</td>\n      <td>NaN</td>\n      <td>3.95</td>\n      <td>98.0</td>\n      <td>NaN</td>\n      <td>NaN</td>\n      <td>NaN</td>\n    </tr>\n    <tr>\n      <th>47</th>\n      <td>1989-02-15</td>\n      <td>2.85</td>\n      <td>4.30</td>\n      <td>NaN</td>\n      <td>3.95</td>\n      <td>98.1</td>\n      <td>NaN</td>\n      <td>NaN</td>\n      <td>NaN</td>\n    </tr>\n    <tr>\n      <th>228</th>\n      <td>1989-03-15</td>\n      <td>2.92</td>\n      <td>4.33</td>\n      <td>NaN</td>\n      <td>3.96</td>\n      <td>98.3</td>\n      <td>NaN</td>\n      <td>NaN</td>\n      <td>NaN</td>\n    </tr>\n    <tr>\n      <th>343</th>\n      <td>1989-04-15</td>\n      <td>3.19</td>\n      <td>4.54</td>\n      <td>NaN</td>\n      <td>4.02</td>\n      <td>97.8</td>\n      <td>NaN</td>\n      <td>NaN</td>\n      <td>NaN</td>\n    </tr>\n    <tr>\n      <th>145</th>\n      <td>1989-05-15</td>\n      <td>3.36</td>\n      <td>4.82</td>\n      <td>NaN</td>\n      <td>4.09</td>\n      <td>97.3</td>\n      <td>NaN</td>\n      <td>NaN</td>\n      <td>NaN</td>\n    </tr>\n    <tr>\n      <th>...</th>\n      <td>...</td>\n      <td>...</td>\n      <td>...</td>\n      <td>...</td>\n      <td>...</td>\n      <td>...</td>\n      <td>...</td>\n      <td>...</td>\n      <td>...</td>\n    </tr>\n    <tr>\n      <th>376</th>\n      <td>2020-03-15</td>\n      <td>2.57</td>\n      <td>6.44</td>\n      <td>100.0</td>\n      <td>5.47</td>\n      <td>93.9</td>\n      <td>4.27</td>\n      <td>8.6</td>\n      <td>NaN</td>\n    </tr>\n    <tr>\n      <th>359</th>\n      <td>2020-04-15</td>\n      <td>2.25</td>\n      <td>6.59</td>\n      <td>100.0</td>\n      <td>5.72</td>\n      <td>93.1</td>\n      <td>4.29</td>\n      <td>7.8</td>\n      <td>NaN</td>\n    </tr>\n    <tr>\n      <th>351</th>\n      <td>2020-05-15</td>\n      <td>2.99</td>\n      <td>8.78</td>\n      <td>100.0</td>\n      <td>6.69</td>\n      <td>91.5</td>\n      <td>4.45</td>\n      <td>7.8</td>\n      <td>NaN</td>\n    </tr>\n    <tr>\n      <th>369</th>\n      <td>2020-06-15</td>\n      <td>2.88</td>\n      <td>11.46</td>\n      <td>100.0</td>\n      <td>8.61</td>\n      <td>90.4</td>\n      <td>7.33</td>\n      <td>5.0</td>\n      <td>NaN</td>\n    </tr>\n    <tr>\n      <th>363</th>\n      <td>2020-07-15</td>\n      <td>3.14</td>\n      <td>13.25</td>\n      <td>100.0</td>\n      <td>9.78</td>\n      <td>90.2</td>\n      <td>6.61</td>\n      <td>5.7</td>\n      <td>NaN</td>\n    </tr>\n  </tbody>\n</table>\n<p>379 rows × 9 columns</p>\n</div>"
     },
     "metadata": {},
     "execution_count": 4
    }
   ],
   "source": [
    "df['date'] = pd.to_datetime(df.date)\n",
    "\n",
    "df = df.sort_values(by='date')\n",
    "\n",
    "df"
   ]
  },
  {
   "cell_type": "code",
   "execution_count": 5,
   "metadata": {},
   "outputs": [
    {
     "output_type": "execute_result",
     "data": {
      "text/plain": "            cityGatePrice  residentialPrice  residentialFromCO  \\\n1989-01-15           2.83              4.30                NaN   \n1989-02-15           2.85              4.30                NaN   \n1989-03-15           2.92              4.33                NaN   \n1989-04-15           3.19              4.54                NaN   \n1989-05-15           3.36              4.82                NaN   \n\n            commercialPrice  commercialFromCO  industrialPrice  \\\n1989-01-15             3.95              98.0              NaN   \n1989-02-15             3.95              98.1              NaN   \n1989-03-15             3.96              98.3              NaN   \n1989-04-15             4.02              97.8              NaN   \n1989-05-15             4.09              97.3              NaN   \n\n            industrialFromCO  electricPowerConsumersPrice  \n1989-01-15               NaN                          NaN  \n1989-02-15               NaN                          NaN  \n1989-03-15               NaN                          NaN  \n1989-04-15               NaN                          NaN  \n1989-05-15               NaN                          NaN  ",
      "text/html": "<div>\n<style scoped>\n    .dataframe tbody tr th:only-of-type {\n        vertical-align: middle;\n    }\n\n    .dataframe tbody tr th {\n        vertical-align: top;\n    }\n\n    .dataframe thead th {\n        text-align: right;\n    }\n</style>\n<table border=\"1\" class=\"dataframe\">\n  <thead>\n    <tr style=\"text-align: right;\">\n      <th></th>\n      <th>cityGatePrice</th>\n      <th>residentialPrice</th>\n      <th>residentialFromCO</th>\n      <th>commercialPrice</th>\n      <th>commercialFromCO</th>\n      <th>industrialPrice</th>\n      <th>industrialFromCO</th>\n      <th>electricPowerConsumersPrice</th>\n    </tr>\n  </thead>\n  <tbody>\n    <tr>\n      <th>1989-01-15</th>\n      <td>2.83</td>\n      <td>4.30</td>\n      <td>NaN</td>\n      <td>3.95</td>\n      <td>98.0</td>\n      <td>NaN</td>\n      <td>NaN</td>\n      <td>NaN</td>\n    </tr>\n    <tr>\n      <th>1989-02-15</th>\n      <td>2.85</td>\n      <td>4.30</td>\n      <td>NaN</td>\n      <td>3.95</td>\n      <td>98.1</td>\n      <td>NaN</td>\n      <td>NaN</td>\n      <td>NaN</td>\n    </tr>\n    <tr>\n      <th>1989-03-15</th>\n      <td>2.92</td>\n      <td>4.33</td>\n      <td>NaN</td>\n      <td>3.96</td>\n      <td>98.3</td>\n      <td>NaN</td>\n      <td>NaN</td>\n      <td>NaN</td>\n    </tr>\n    <tr>\n      <th>1989-04-15</th>\n      <td>3.19</td>\n      <td>4.54</td>\n      <td>NaN</td>\n      <td>4.02</td>\n      <td>97.8</td>\n      <td>NaN</td>\n      <td>NaN</td>\n      <td>NaN</td>\n    </tr>\n    <tr>\n      <th>1989-05-15</th>\n      <td>3.36</td>\n      <td>4.82</td>\n      <td>NaN</td>\n      <td>4.09</td>\n      <td>97.3</td>\n      <td>NaN</td>\n      <td>NaN</td>\n      <td>NaN</td>\n    </tr>\n  </tbody>\n</table>\n</div>"
     },
     "metadata": {},
     "execution_count": 5
    }
   ],
   "source": [
    "dt_index = pd.DatetimeIndex(df['date'].values)\n",
    "\n",
    "df2=df.set_index(dt_index)\n",
    "\n",
    "df2.drop('date',axis=1,inplace=True)\n",
    "\n",
    "df2.head()"
   ]
  },
  {
   "cell_type": "code",
   "execution_count": 7,
   "metadata": {},
   "outputs": [
    {
     "output_type": "execute_result",
     "data": {
      "text/plain": "DatetimeIndex([&#39;1989-01-15&#39;, &#39;1989-02-15&#39;, &#39;1989-03-15&#39;, &#39;1989-04-15&#39;,\n               &#39;1989-05-15&#39;, &#39;1989-06-15&#39;, &#39;1989-07-15&#39;, &#39;1989-08-15&#39;,\n               &#39;1989-09-15&#39;, &#39;1989-10-15&#39;,\n               ...\n               &#39;2019-10-15&#39;, &#39;2019-11-15&#39;, &#39;2019-12-15&#39;, &#39;2020-01-15&#39;,\n               &#39;2020-02-15&#39;, &#39;2020-03-15&#39;, &#39;2020-04-15&#39;, &#39;2020-05-15&#39;,\n               &#39;2020-06-15&#39;, &#39;2020-07-15&#39;],\n              dtype=&#39;datetime64[ns]&#39;, length=379, freq=None)"
     },
     "metadata": {},
     "execution_count": 7
    }
   ],
   "source": [
    "df2.index"
   ]
  },
  {
   "cell_type": "code",
   "execution_count": 32,
   "metadata": {},
   "outputs": [
    {
     "output_type": "execute_result",
     "data": {
      "text/plain": "Timestamp(&#39;1989-01-15 00:00:00&#39;)"
     },
     "metadata": {},
     "execution_count": 32
    }
   ],
   "source": [
    "df2.index[0]"
   ]
  },
  {
   "cell_type": "code",
   "execution_count": 33,
   "metadata": {},
   "outputs": [],
   "source": [
    "from datetime import datetime as dt\n",
    "\n",
    "t = pd.Timestamp.to_pydatetime(df2.index[0])\n",
    "\n"
   ]
  },
  {
   "cell_type": "code",
   "execution_count": 34,
   "metadata": {},
   "outputs": [],
   "source": [
    "latitude = 39.7392\n",
    "longitude = 104.9903\n",
    "forecast = darksky.get_time_machine_forecast(\n",
    "    latitude, longitude,\n",
    "    extend=False, # default `False`\n",
    "    lang=languages.ENGLISH, # default `ENGLISH`\n",
    "    values_units=units.AUTO, # default `auto`\n",
    "    exclude=[weather.MINUTELY, weather.ALERTS], # default `[]`,\n",
    "    timezone='UTC', # default None - will be set by DarkSky API automatically\n",
    "    time=t\n",
    ")"
   ]
  },
  {
   "cell_type": "code",
   "execution_count": 35,
   "metadata": {},
   "outputs": [
    {
     "output_type": "execute_result",
     "data": {
      "text/plain": "&lt;darksky.forecast.Forecast at 0x11bb63b00&gt;"
     },
     "metadata": {},
     "execution_count": 35
    }
   ],
   "source": [
    "forecast"
   ]
  },
  {
   "cell_type": "code",
   "execution_count": 36,
   "metadata": {
    "tags": []
   },
   "outputs": [
    {
     "output_type": "stream",
     "name": "stdout",
     "text": "None\n"
    }
   ],
   "source": [
    "print(forecast.currently.summary)"
   ]
  },
  {
   "cell_type": "code",
   "execution_count": 44,
   "metadata": {
    "tags": []
   },
   "outputs": [
    {
     "output_type": "stream",
     "name": "stdout",
     "text": "[datetime.datetime(1989, 1, 15, 0, 0), datetime.datetime(1989, 2, 15, 0, 0), datetime.datetime(1989, 3, 15, 0, 0), datetime.datetime(1989, 4, 15, 0, 0), datetime.datetime(1989, 5, 15, 0, 0), datetime.datetime(1989, 6, 15, 0, 0), datetime.datetime(1989, 7, 15, 0, 0), datetime.datetime(1989, 8, 15, 0, 0), datetime.datetime(1989, 9, 15, 0, 0), datetime.datetime(1989, 10, 15, 0, 0), datetime.datetime(1989, 11, 15, 0, 0), datetime.datetime(1989, 12, 15, 0, 0), datetime.datetime(1990, 1, 15, 0, 0), datetime.datetime(1990, 2, 15, 0, 0), datetime.datetime(1990, 3, 15, 0, 0), datetime.datetime(1990, 4, 15, 0, 0), datetime.datetime(1990, 5, 15, 0, 0), datetime.datetime(1990, 6, 15, 0, 0), datetime.datetime(1990, 7, 15, 0, 0), datetime.datetime(1990, 8, 15, 0, 0), datetime.datetime(1990, 9, 15, 0, 0), datetime.datetime(1990, 10, 15, 0, 0), datetime.datetime(1990, 11, 15, 0, 0), datetime.datetime(1990, 12, 15, 0, 0), datetime.datetime(1991, 1, 15, 0, 0), datetime.datetime(1991, 2, 15, 0, 0), datetime.datetime(1991, 3, 15, 0, 0), datetime.datetime(1991, 4, 15, 0, 0), datetime.datetime(1991, 5, 15, 0, 0), datetime.datetime(1991, 6, 15, 0, 0), datetime.datetime(1991, 7, 15, 0, 0), datetime.datetime(1991, 8, 15, 0, 0), datetime.datetime(1991, 9, 15, 0, 0), datetime.datetime(1991, 10, 15, 0, 0), datetime.datetime(1991, 11, 15, 0, 0), datetime.datetime(1991, 12, 15, 0, 0), datetime.datetime(1992, 1, 15, 0, 0), datetime.datetime(1992, 2, 15, 0, 0), datetime.datetime(1992, 3, 15, 0, 0), datetime.datetime(1992, 4, 15, 0, 0), datetime.datetime(1992, 5, 15, 0, 0), datetime.datetime(1992, 6, 15, 0, 0), datetime.datetime(1992, 7, 15, 0, 0), datetime.datetime(1992, 8, 15, 0, 0), datetime.datetime(1992, 9, 15, 0, 0), datetime.datetime(1992, 10, 15, 0, 0), datetime.datetime(1992, 11, 15, 0, 0), datetime.datetime(1992, 12, 15, 0, 0), datetime.datetime(1993, 1, 15, 0, 0), datetime.datetime(1993, 2, 15, 0, 0), datetime.datetime(1993, 3, 15, 0, 0), datetime.datetime(1993, 4, 15, 0, 0), datetime.datetime(1993, 5, 15, 0, 0), datetime.datetime(1993, 6, 15, 0, 0), datetime.datetime(1993, 7, 15, 0, 0), datetime.datetime(1993, 8, 15, 0, 0), datetime.datetime(1993, 9, 15, 0, 0), datetime.datetime(1993, 10, 15, 0, 0), datetime.datetime(1993, 11, 15, 0, 0), datetime.datetime(1993, 12, 15, 0, 0), datetime.datetime(1994, 1, 15, 0, 0), datetime.datetime(1994, 2, 15, 0, 0), datetime.datetime(1994, 3, 15, 0, 0), datetime.datetime(1994, 4, 15, 0, 0), datetime.datetime(1994, 5, 15, 0, 0), datetime.datetime(1994, 6, 15, 0, 0), datetime.datetime(1994, 7, 15, 0, 0), datetime.datetime(1994, 8, 15, 0, 0), datetime.datetime(1994, 9, 15, 0, 0), datetime.datetime(1994, 10, 15, 0, 0), datetime.datetime(1994, 11, 15, 0, 0), datetime.datetime(1994, 12, 15, 0, 0), datetime.datetime(1995, 1, 15, 0, 0), datetime.datetime(1995, 2, 15, 0, 0), datetime.datetime(1995, 3, 15, 0, 0), datetime.datetime(1995, 4, 15, 0, 0), datetime.datetime(1995, 5, 15, 0, 0), datetime.datetime(1995, 6, 15, 0, 0), datetime.datetime(1995, 7, 15, 0, 0), datetime.datetime(1995, 8, 15, 0, 0), datetime.datetime(1995, 9, 15, 0, 0), datetime.datetime(1995, 10, 15, 0, 0), datetime.datetime(1995, 11, 15, 0, 0), datetime.datetime(1995, 12, 15, 0, 0), datetime.datetime(1996, 1, 15, 0, 0), datetime.datetime(1996, 2, 15, 0, 0), datetime.datetime(1996, 3, 15, 0, 0), datetime.datetime(1996, 4, 15, 0, 0), datetime.datetime(1996, 5, 15, 0, 0), datetime.datetime(1996, 6, 15, 0, 0), datetime.datetime(1996, 7, 15, 0, 0), datetime.datetime(1996, 8, 15, 0, 0), datetime.datetime(1996, 9, 15, 0, 0), datetime.datetime(1996, 10, 15, 0, 0), datetime.datetime(1996, 11, 15, 0, 0), datetime.datetime(1996, 12, 15, 0, 0), datetime.datetime(1997, 1, 15, 0, 0), datetime.datetime(1997, 2, 15, 0, 0), datetime.datetime(1997, 3, 15, 0, 0), datetime.datetime(1997, 4, 15, 0, 0), datetime.datetime(1997, 5, 15, 0, 0), datetime.datetime(1997, 6, 15, 0, 0), datetime.datetime(1997, 7, 15, 0, 0), datetime.datetime(1997, 8, 15, 0, 0), datetime.datetime(1997, 9, 15, 0, 0), datetime.datetime(1997, 10, 15, 0, 0), datetime.datetime(1997, 11, 15, 0, 0), datetime.datetime(1997, 12, 15, 0, 0), datetime.datetime(1998, 1, 15, 0, 0), datetime.datetime(1998, 2, 15, 0, 0), datetime.datetime(1998, 3, 15, 0, 0), datetime.datetime(1998, 4, 15, 0, 0), datetime.datetime(1998, 5, 15, 0, 0), datetime.datetime(1998, 6, 15, 0, 0), datetime.datetime(1998, 7, 15, 0, 0), datetime.datetime(1998, 8, 15, 0, 0), datetime.datetime(1998, 9, 15, 0, 0), datetime.datetime(1998, 10, 15, 0, 0), datetime.datetime(1998, 11, 15, 0, 0), datetime.datetime(1998, 12, 15, 0, 0), datetime.datetime(1999, 1, 15, 0, 0), datetime.datetime(1999, 2, 15, 0, 0), datetime.datetime(1999, 3, 15, 0, 0), datetime.datetime(1999, 4, 15, 0, 0), datetime.datetime(1999, 5, 15, 0, 0), datetime.datetime(1999, 6, 15, 0, 0), datetime.datetime(1999, 7, 15, 0, 0), datetime.datetime(1999, 8, 15, 0, 0), datetime.datetime(1999, 9, 15, 0, 0), datetime.datetime(1999, 10, 15, 0, 0), datetime.datetime(1999, 11, 15, 0, 0), datetime.datetime(1999, 12, 15, 0, 0), datetime.datetime(2000, 1, 15, 0, 0), datetime.datetime(2000, 2, 15, 0, 0), datetime.datetime(2000, 3, 15, 0, 0), datetime.datetime(2000, 4, 15, 0, 0), datetime.datetime(2000, 5, 15, 0, 0), datetime.datetime(2000, 6, 15, 0, 0), datetime.datetime(2000, 7, 15, 0, 0), datetime.datetime(2000, 8, 15, 0, 0), datetime.datetime(2000, 9, 15, 0, 0), datetime.datetime(2000, 10, 15, 0, 0), datetime.datetime(2000, 11, 15, 0, 0), datetime.datetime(2000, 12, 15, 0, 0), datetime.datetime(2001, 1, 15, 0, 0), datetime.datetime(2001, 2, 15, 0, 0), datetime.datetime(2001, 3, 15, 0, 0), datetime.datetime(2001, 4, 15, 0, 0), datetime.datetime(2001, 5, 15, 0, 0), datetime.datetime(2001, 6, 15, 0, 0), datetime.datetime(2001, 7, 15, 0, 0), datetime.datetime(2001, 8, 15, 0, 0), datetime.datetime(2001, 9, 15, 0, 0), datetime.datetime(2001, 10, 15, 0, 0), datetime.datetime(2001, 11, 15, 0, 0), datetime.datetime(2001, 12, 15, 0, 0), datetime.datetime(2002, 1, 15, 0, 0), datetime.datetime(2002, 2, 15, 0, 0), datetime.datetime(2002, 3, 15, 0, 0), datetime.datetime(2002, 4, 15, 0, 0), datetime.datetime(2002, 5, 15, 0, 0), datetime.datetime(2002, 6, 15, 0, 0), datetime.datetime(2002, 7, 15, 0, 0), datetime.datetime(2002, 8, 15, 0, 0), datetime.datetime(2002, 9, 15, 0, 0), datetime.datetime(2002, 10, 15, 0, 0), datetime.datetime(2002, 11, 15, 0, 0), datetime.datetime(2002, 12, 15, 0, 0), datetime.datetime(2003, 1, 15, 0, 0), datetime.datetime(2003, 2, 15, 0, 0), datetime.datetime(2003, 3, 15, 0, 0), datetime.datetime(2003, 4, 15, 0, 0), datetime.datetime(2003, 5, 15, 0, 0), datetime.datetime(2003, 6, 15, 0, 0), datetime.datetime(2003, 7, 15, 0, 0), datetime.datetime(2003, 8, 15, 0, 0), datetime.datetime(2003, 9, 15, 0, 0), datetime.datetime(2003, 10, 15, 0, 0), datetime.datetime(2003, 11, 15, 0, 0), datetime.datetime(2003, 12, 15, 0, 0), datetime.datetime(2004, 1, 15, 0, 0), datetime.datetime(2004, 2, 15, 0, 0), datetime.datetime(2004, 3, 15, 0, 0), datetime.datetime(2004, 4, 15, 0, 0), datetime.datetime(2004, 5, 15, 0, 0), datetime.datetime(2004, 6, 15, 0, 0), datetime.datetime(2004, 7, 15, 0, 0), datetime.datetime(2004, 8, 15, 0, 0), datetime.datetime(2004, 9, 15, 0, 0), datetime.datetime(2004, 10, 15, 0, 0), datetime.datetime(2004, 11, 15, 0, 0), datetime.datetime(2004, 12, 15, 0, 0), datetime.datetime(2005, 1, 15, 0, 0), datetime.datetime(2005, 2, 15, 0, 0), datetime.datetime(2005, 3, 15, 0, 0), datetime.datetime(2005, 4, 15, 0, 0), datetime.datetime(2005, 5, 15, 0, 0), datetime.datetime(2005, 6, 15, 0, 0), datetime.datetime(2005, 7, 15, 0, 0), datetime.datetime(2005, 8, 15, 0, 0), datetime.datetime(2005, 9, 15, 0, 0), datetime.datetime(2005, 10, 15, 0, 0), datetime.datetime(2005, 11, 15, 0, 0), datetime.datetime(2005, 12, 15, 0, 0), datetime.datetime(2006, 1, 15, 0, 0), datetime.datetime(2006, 2, 15, 0, 0), datetime.datetime(2006, 3, 15, 0, 0), datetime.datetime(2006, 4, 15, 0, 0), datetime.datetime(2006, 5, 15, 0, 0), datetime.datetime(2006, 6, 15, 0, 0), datetime.datetime(2006, 7, 15, 0, 0), datetime.datetime(2006, 8, 15, 0, 0), datetime.datetime(2006, 9, 15, 0, 0), datetime.datetime(2006, 10, 15, 0, 0), datetime.datetime(2006, 11, 15, 0, 0), datetime.datetime(2006, 12, 15, 0, 0), datetime.datetime(2007, 1, 15, 0, 0), datetime.datetime(2007, 2, 15, 0, 0), datetime.datetime(2007, 3, 15, 0, 0), datetime.datetime(2007, 4, 15, 0, 0), datetime.datetime(2007, 5, 15, 0, 0), datetime.datetime(2007, 6, 15, 0, 0), datetime.datetime(2007, 7, 15, 0, 0), datetime.datetime(2007, 8, 15, 0, 0), datetime.datetime(2007, 9, 15, 0, 0), datetime.datetime(2007, 10, 15, 0, 0), datetime.datetime(2007, 11, 15, 0, 0), datetime.datetime(2007, 12, 15, 0, 0), datetime.datetime(2008, 1, 15, 0, 0), datetime.datetime(2008, 2, 15, 0, 0), datetime.datetime(2008, 3, 15, 0, 0), datetime.datetime(2008, 4, 15, 0, 0), datetime.datetime(2008, 5, 15, 0, 0), datetime.datetime(2008, 6, 15, 0, 0), datetime.datetime(2008, 7, 15, 0, 0), datetime.datetime(2008, 8, 15, 0, 0), datetime.datetime(2008, 9, 15, 0, 0), datetime.datetime(2008, 10, 15, 0, 0), datetime.datetime(2008, 11, 15, 0, 0), datetime.datetime(2008, 12, 15, 0, 0), datetime.datetime(2009, 1, 15, 0, 0), datetime.datetime(2009, 2, 15, 0, 0), datetime.datetime(2009, 3, 15, 0, 0), datetime.datetime(2009, 4, 15, 0, 0), datetime.datetime(2009, 5, 15, 0, 0), datetime.datetime(2009, 6, 15, 0, 0), datetime.datetime(2009, 7, 15, 0, 0), datetime.datetime(2009, 8, 15, 0, 0), datetime.datetime(2009, 9, 15, 0, 0), datetime.datetime(2009, 10, 15, 0, 0), datetime.datetime(2009, 11, 15, 0, 0), datetime.datetime(2009, 12, 15, 0, 0), datetime.datetime(2010, 1, 15, 0, 0), datetime.datetime(2010, 2, 15, 0, 0), datetime.datetime(2010, 3, 15, 0, 0), datetime.datetime(2010, 4, 15, 0, 0), datetime.datetime(2010, 5, 15, 0, 0), datetime.datetime(2010, 6, 15, 0, 0), datetime.datetime(2010, 7, 15, 0, 0), datetime.datetime(2010, 8, 15, 0, 0), datetime.datetime(2010, 9, 15, 0, 0), datetime.datetime(2010, 10, 15, 0, 0), datetime.datetime(2010, 11, 15, 0, 0), datetime.datetime(2010, 12, 15, 0, 0), datetime.datetime(2011, 1, 15, 0, 0), datetime.datetime(2011, 2, 15, 0, 0), datetime.datetime(2011, 3, 15, 0, 0), datetime.datetime(2011, 4, 15, 0, 0), datetime.datetime(2011, 5, 15, 0, 0), datetime.datetime(2011, 6, 15, 0, 0), datetime.datetime(2011, 7, 15, 0, 0), datetime.datetime(2011, 8, 15, 0, 0), datetime.datetime(2011, 9, 15, 0, 0), datetime.datetime(2011, 10, 15, 0, 0), datetime.datetime(2011, 11, 15, 0, 0), datetime.datetime(2011, 12, 15, 0, 0), datetime.datetime(2012, 1, 15, 0, 0), datetime.datetime(2012, 2, 15, 0, 0), datetime.datetime(2012, 3, 15, 0, 0), datetime.datetime(2012, 4, 15, 0, 0), datetime.datetime(2012, 5, 15, 0, 0), datetime.datetime(2012, 6, 15, 0, 0), datetime.datetime(2012, 7, 15, 0, 0), datetime.datetime(2012, 8, 15, 0, 0), datetime.datetime(2012, 9, 15, 0, 0), datetime.datetime(2012, 10, 15, 0, 0), datetime.datetime(2012, 11, 15, 0, 0), datetime.datetime(2012, 12, 15, 0, 0), datetime.datetime(2013, 1, 15, 0, 0), datetime.datetime(2013, 2, 15, 0, 0), datetime.datetime(2013, 3, 15, 0, 0), datetime.datetime(2013, 4, 15, 0, 0), datetime.datetime(2013, 5, 15, 0, 0), datetime.datetime(2013, 6, 15, 0, 0), datetime.datetime(2013, 7, 15, 0, 0), datetime.datetime(2013, 8, 15, 0, 0), datetime.datetime(2013, 9, 15, 0, 0), datetime.datetime(2013, 10, 15, 0, 0), datetime.datetime(2013, 11, 15, 0, 0), datetime.datetime(2013, 12, 15, 0, 0), datetime.datetime(2014, 1, 15, 0, 0), datetime.datetime(2014, 2, 15, 0, 0), datetime.datetime(2014, 3, 15, 0, 0), datetime.datetime(2014, 4, 15, 0, 0), datetime.datetime(2014, 5, 15, 0, 0), datetime.datetime(2014, 6, 15, 0, 0), datetime.datetime(2014, 7, 15, 0, 0), datetime.datetime(2014, 8, 15, 0, 0), datetime.datetime(2014, 9, 15, 0, 0), datetime.datetime(2014, 10, 15, 0, 0), datetime.datetime(2014, 11, 15, 0, 0), datetime.datetime(2014, 12, 15, 0, 0), datetime.datetime(2015, 1, 15, 0, 0), datetime.datetime(2015, 2, 15, 0, 0), datetime.datetime(2015, 3, 15, 0, 0), datetime.datetime(2015, 4, 15, 0, 0), datetime.datetime(2015, 5, 15, 0, 0), datetime.datetime(2015, 6, 15, 0, 0), datetime.datetime(2015, 7, 15, 0, 0), datetime.datetime(2015, 8, 15, 0, 0), datetime.datetime(2015, 9, 15, 0, 0), datetime.datetime(2015, 10, 15, 0, 0), datetime.datetime(2015, 11, 15, 0, 0), datetime.datetime(2015, 12, 15, 0, 0), datetime.datetime(2016, 1, 15, 0, 0), datetime.datetime(2016, 2, 15, 0, 0), datetime.datetime(2016, 3, 15, 0, 0), datetime.datetime(2016, 4, 15, 0, 0), datetime.datetime(2016, 5, 15, 0, 0), datetime.datetime(2016, 6, 15, 0, 0), datetime.datetime(2016, 7, 15, 0, 0), datetime.datetime(2016, 8, 15, 0, 0), datetime.datetime(2016, 9, 15, 0, 0), datetime.datetime(2016, 10, 15, 0, 0), datetime.datetime(2016, 11, 15, 0, 0), datetime.datetime(2016, 12, 15, 0, 0), datetime.datetime(2017, 1, 15, 0, 0), datetime.datetime(2017, 2, 15, 0, 0), datetime.datetime(2017, 3, 15, 0, 0), datetime.datetime(2017, 4, 15, 0, 0), datetime.datetime(2017, 5, 15, 0, 0), datetime.datetime(2017, 6, 15, 0, 0), datetime.datetime(2017, 7, 15, 0, 0), datetime.datetime(2017, 8, 15, 0, 0), datetime.datetime(2017, 9, 15, 0, 0), datetime.datetime(2017, 10, 15, 0, 0), datetime.datetime(2017, 11, 15, 0, 0), datetime.datetime(2017, 12, 15, 0, 0), datetime.datetime(2018, 1, 15, 0, 0), datetime.datetime(2018, 2, 15, 0, 0), datetime.datetime(2018, 3, 15, 0, 0), datetime.datetime(2018, 4, 15, 0, 0), datetime.datetime(2018, 5, 15, 0, 0), datetime.datetime(2018, 6, 15, 0, 0), datetime.datetime(2018, 7, 15, 0, 0), datetime.datetime(2018, 8, 15, 0, 0), datetime.datetime(2018, 9, 15, 0, 0), datetime.datetime(2018, 10, 15, 0, 0), datetime.datetime(2018, 11, 15, 0, 0), datetime.datetime(2018, 12, 15, 0, 0), datetime.datetime(2019, 1, 15, 0, 0), datetime.datetime(2019, 2, 15, 0, 0), datetime.datetime(2019, 3, 15, 0, 0), datetime.datetime(2019, 4, 15, 0, 0), datetime.datetime(2019, 5, 15, 0, 0), datetime.datetime(2019, 6, 15, 0, 0), datetime.datetime(2019, 7, 15, 0, 0), datetime.datetime(2019, 8, 15, 0, 0), datetime.datetime(2019, 9, 15, 0, 0), datetime.datetime(2019, 10, 15, 0, 0), datetime.datetime(2019, 11, 15, 0, 0), datetime.datetime(2019, 12, 15, 0, 0), datetime.datetime(2020, 1, 15, 0, 0), datetime.datetime(2020, 2, 15, 0, 0), datetime.datetime(2020, 3, 15, 0, 0), datetime.datetime(2020, 4, 15, 0, 0), datetime.datetime(2020, 5, 15, 0, 0), datetime.datetime(2020, 6, 15, 0, 0), datetime.datetime(2020, 7, 15, 0, 0)]\n"
    }
   ],
   "source": [
    "dts = []\n",
    "\n",
    "for i in df2.index:\n",
    "    dt_add = pd.Timestamp.to_pydatetime(i)\n",
    "    dts.append(dt_add)\n",
    "\n",
    "print(dts)"
   ]
  },
  {
   "cell_type": "code",
   "execution_count": 46,
   "metadata": {},
   "outputs": [
    {
     "output_type": "execute_result",
     "data": {
      "text/plain": "379"
     },
     "metadata": {},
     "execution_count": 46
    }
   ],
   "source": [
    "len(dts)"
   ]
  },
  {
   "cell_type": "code",
   "execution_count": 49,
   "metadata": {},
   "outputs": [
    {
     "output_type": "execute_result",
     "data": {
      "text/plain": "120"
     },
     "metadata": {},
     "execution_count": 49
    }
   ],
   "source": [
    "dts_trunc = dts[-120:]\n",
    "\n",
    "len(dts_trunc)"
   ]
  },
  {
   "cell_type": "code",
   "execution_count": 51,
   "metadata": {},
   "outputs": [],
   "source": [
    "forecasts = []"
   ]
  },
  {
   "cell_type": "code",
   "execution_count": 53,
   "metadata": {
    "tags": []
   },
   "outputs": [],
   "source": [
    "for i in dts_trunc:\n",
    "    t = i\n",
    "    forecast = darksky.get_time_machine_forecast(\n",
    "    latitude, longitude,\n",
    "    extend=False, # default `False`\n",
    "    lang=languages.ENGLISH, # default `ENGLISH`\n",
    "    values_units=units.AUTO, # default `auto`\n",
    "    exclude=[weather.MINUTELY, weather.ALERTS], # default `[]`,\n",
    "    timezone='UTC', # default None - will be set by DarkSky API automatically\n",
    "    time=t\n",
    ")\n",
    "    forecasts.append(forecast.currently.summary)"
   ]
  },
  {
   "cell_type": "code",
   "execution_count": 54,
   "metadata": {},
   "outputs": [
    {
     "output_type": "execute_result",
     "data": {
      "text/plain": "[None,\n None,\n None,\n None,\n None,\n None,\n None,\n None,\n None,\n None,\n None,\n None,\n None,\n None,\n None,\n None,\n None,\n None,\n None,\n None,\n None,\n None,\n None,\n None,\n None,\n None,\n None,\n None,\n None,\n None,\n None,\n None,\n None,\n None,\n None,\n None,\n None,\n None,\n None,\n None,\n None,\n None,\n None,\n None,\n None,\n None,\n None,\n None,\n None,\n None,\n None,\n None,\n None,\n None,\n None,\n None,\n None,\n None,\n None,\n None,\n None,\n None,\n None,\n None,\n None,\n None,\n None,\n None,\n None,\n None,\n None,\n None,\n None,\n None,\n None,\n None,\n None,\n None,\n None,\n None,\n None,\n None,\n None,\n None,\n None,\n None,\n None,\n None,\n None,\n None,\n None,\n None,\n None,\n None,\n None,\n None,\n None,\n None,\n None,\n None,\n None,\n None,\n &#39;Clear&#39;,\n &#39;Clear&#39;,\n &#39;Windy&#39;,\n &#39;Clear&#39;,\n &#39;Mostly Cloudy&#39;,\n &#39;Overcast&#39;,\n &#39;Clear&#39;,\n &#39;Clear&#39;,\n &#39;Overcast&#39;,\n &#39;Clear&#39;,\n &#39;Overcast&#39;,\n &#39;Overcast&#39;,\n &#39;Clear&#39;,\n &#39;Overcast&#39;,\n &#39;Mostly Cloudy&#39;,\n &#39;Mostly Cloudy&#39;,\n &#39;Mostly Cloudy&#39;,\n &#39;Partly Cloudy&#39;]"
     },
     "metadata": {},
     "execution_count": 54
    }
   ],
   "source": [
    "forecasts"
   ]
  },
  {
   "cell_type": "code",
   "execution_count": 57,
   "metadata": {},
   "outputs": [
    {
     "output_type": "execute_result",
     "data": {
      "text/plain": "&lt;method-wrapper &#39;__getattribute__&#39; of list object at 0x11d7ab9c8&gt;"
     },
     "metadata": {},
     "execution_count": 57
    }
   ],
   "source": [
    "forecast.daily."
   ]
  },
  {
   "cell_type": "code",
   "execution_count": null,
   "metadata": {},
   "outputs": [],
   "source": []
  }
 ]
}